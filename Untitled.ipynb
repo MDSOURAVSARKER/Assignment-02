{
 "cells": [
  {
   "cell_type": "markdown",
   "id": "109fd8f0-37cc-4895-ad14-e8305b22dafa",
   "metadata": {},
   "source": [
    "1. Write a program that swaps the values of two variables.\n"
   ]
  },
  {
   "cell_type": "markdown",
   "id": "ac50bf3b-c930-4e87-b384-7ce836835583",
   "metadata": {},
   "source": [
    "Before Swapping "
   ]
  },
  {
   "cell_type": "code",
   "execution_count": 3,
   "id": "b0117360-d1a7-482b-8a06-08b0ab7aac1c",
   "metadata": {},
   "outputs": [],
   "source": [
    "a=10"
   ]
  },
  {
   "cell_type": "code",
   "execution_count": 4,
   "id": "eb486ca4-94b4-4f1c-b5a7-d28652d9a1ac",
   "metadata": {},
   "outputs": [],
   "source": [
    "b=20"
   ]
  },
  {
   "cell_type": "code",
   "execution_count": 5,
   "id": "f5daf3de-1bf0-4a48-9138-e8728abfb951",
   "metadata": {
    "scrolled": true
   },
   "outputs": [
    {
     "name": "stdout",
     "output_type": "stream",
     "text": [
      "before swapping\n",
      "a= 10\n",
      "b= 20\n"
     ]
    }
   ],
   "source": [
    "print(\"before swapping\")\n",
    "print(\"a=\", a)\n",
    "print(\"b=\", b)"
   ]
  },
  {
   "cell_type": "markdown",
   "id": "168851ad-6e2f-4134-95ab-f493e941aa9c",
   "metadata": {},
   "source": [
    "Swapping the value"
   ]
  },
  {
   "cell_type": "code",
   "execution_count": 6,
   "id": "c9a09000-9926-4c71-8cc3-22ff577a7004",
   "metadata": {},
   "outputs": [
    {
     "name": "stdout",
     "output_type": "stream",
     "text": [
      "After swapping\n",
      "a= 20\n",
      "b= 10\n"
     ]
    }
   ],
   "source": [
    "print (\"After swapping\")\n",
    "print(\"a=\", b)\n",
    "print(\"b=\", a)"
   ]
  },
  {
   "cell_type": "markdown",
   "id": "6e04d564-381f-4349-b005-253c8f7cf841",
   "metadata": {},
   "source": [
    "2. Write a program that calculates the area of a rectangle given its length and width.\n"
   ]
  },
  {
   "cell_type": "code",
   "execution_count": 7,
   "id": "58421a15-308e-49cb-9796-7880ead64453",
   "metadata": {},
   "outputs": [
    {
     "name": "stdin",
     "output_type": "stream",
     "text": [
      "Enter the length of the rectangle:  3\n",
      "Enter the width of the rectangle:  4\n"
     ]
    },
    {
     "name": "stdout",
     "output_type": "stream",
     "text": [
      "The area of the rectangle is: 12.0\n"
     ]
    }
   ],
   "source": [
    "\n",
    "l = float(input(\"Enter the length of the rectangle: \"))\n",
    "w = float(input(\"Enter the width of the rectangle: \"))\n",
    "area = l * w\n",
    "print(\"The area of the rectangle is:\", area)\n"
   ]
  },
  {
   "cell_type": "markdown",
   "id": "d2dc67d7-b8b5-46fc-bf1f-a3f1866d8649",
   "metadata": {},
   "source": [
    "3. Write a program that converts temperature from Fahrenheit to Celsius.\n",
    "   \n"
   ]
  },
  {
   "cell_type": "code",
   "execution_count": 8,
   "id": "5ba0ac4e-e95d-4d5e-9b33-592fcf1868bc",
   "metadata": {},
   "outputs": [
    {
     "name": "stdin",
     "output_type": "stream",
     "text": [
      "Enter temperature in fahrenheit : 65\n"
     ]
    },
    {
     "name": "stdout",
     "output_type": "stream",
     "text": [
      "Temperature in celcius degree 18.333333333333332\n"
     ]
    }
   ],
   "source": [
    "Fahrenheit_temperature=float(input(\"Enter temperature in fahrenheit :\"))\n",
    "celcius=(Fahrenheit_temperature-32)*5/9\n",
    "print (\"Temperature in celcius degree\", celcius )"
   ]
  },
  {
   "cell_type": "markdown",
   "id": "c93496ae-5083-459c-98d1-7b7e638bb2b4",
   "metadata": {},
   "source": [
    "4. Write a program that calculates the volume of a sphere given its radius.\n"
   ]
  },
  {
   "cell_type": "code",
   "execution_count": 10,
   "id": "1e02add4-3d6c-4b93-8801-23ec3e7c3c43",
   "metadata": {},
   "outputs": [
    {
     "name": "stdin",
     "output_type": "stream",
     "text": [
      "Enter the radius 5\n"
     ]
    },
    {
     "name": "stdout",
     "output_type": "stream",
     "text": [
      "The volume of this sphere is= 523.5999999999999\n"
     ]
    }
   ],
   "source": [
    "r=float(input(\"Enter the radius\"))\n",
    "volume_sphere=4/3*3.1416*(r*r*r)\n",
    "print('The volume of this sphere is=', volume_sphere)"
   ]
  },
  {
   "cell_type": "markdown",
   "id": "983f4ebf-5d90-47a1-8490-870df336afea",
   "metadata": {},
   "source": [
    "5. Write a program that finds the average of three numbers."
   ]
  },
  {
   "cell_type": "code",
   "execution_count": 11,
   "id": "77332512-5ee9-479e-85f3-fe75f24942fe",
   "metadata": {
    "scrolled": true
   },
   "outputs": [
    {
     "name": "stdin",
     "output_type": "stream",
     "text": [
      "Enter the first number 2\n",
      "Enter the 2nd number 3\n",
      "enter the 3rd number 4\n"
     ]
    },
    {
     "name": "stdout",
     "output_type": "stream",
     "text": [
      "The average of these three number are : 3.0\n"
     ]
    }
   ],
   "source": [
    "num1=float(input(\"Enter the first number\"))\n",
    "num2=float(input(\"Enter the 2nd number\"))\n",
    "num3=float(input(\"enter the 3rd number\"))\n",
    "Avg=(num1+num2+num3)/3\n",
    "print (\"The average of these three number are :\", Avg)"
   ]
  },
  {
   "cell_type": "markdown",
   "id": "7b692380-9988-4b5b-9ae7-b8dc48189774",
   "metadata": {},
   "source": [
    "6. Write a program that determines if a number is even or odd"
   ]
  },
  {
   "cell_type": "code",
   "execution_count": 13,
   "id": "83a10799-298c-4fef-b366-f46534ab392b",
   "metadata": {
    "scrolled": true
   },
   "outputs": [
    {
     "name": "stdin",
     "output_type": "stream",
     "text": [
      "Enter the number 23\n"
     ]
    },
    {
     "name": "stdout",
     "output_type": "stream",
     "text": [
      "The number is odd\n"
     ]
    }
   ],
   "source": [
    "number=int(input(\"Enter the number\"))\n",
    "if number%2==0:\n",
    "    print(\"The number is even\")\n",
    "else :\n",
    "    print (\"The number is odd\")"
   ]
  },
  {
   "cell_type": "markdown",
   "id": "ca380b01-bc7f-4176-9764-81c4783400a9",
   "metadata": {},
   "source": [
    "7. Write a program that finds the maximum of three numbers.\n"
   ]
  },
  {
   "cell_type": "code",
   "execution_count": 14,
   "id": "a34d762d-9a8a-4774-8ebe-c462bb471916",
   "metadata": {},
   "outputs": [
    {
     "name": "stdin",
     "output_type": "stream",
     "text": [
      "Enter the first number 2\n",
      "Enter the second number 4\n",
      "Enter the third number 5\n"
     ]
    },
    {
     "name": "stdout",
     "output_type": "stream",
     "text": [
      "The maximum number is : 5.0\n"
     ]
    }
   ],
   "source": [
    "num1=float(input(\"Enter the first number\"))\n",
    "num2=float(input(\"Enter the second number\"))\n",
    "num3=float(input(\"Enter the third number\"))\n",
    "if num1>=num2 >=num3:\n",
    "    print (\"The maximum numbe is:\", num1)\n",
    "elif num2>=num1>=num3:\n",
    "    print(\"The maximum number is :\", num2)\n",
    "else:\n",
    "    print(\"The maximum number is :\", num3)\n",
    "        \n"
   ]
  },
  {
   "cell_type": "markdown",
   "id": "f1df4e50-ca45-4a77-99fc-53e9585e7c9f",
   "metadata": {},
   "source": [
    "8. Write a program that determines if a year is a leap year or not.\n"
   ]
  },
  {
   "cell_type": "code",
   "execution_count": 15,
   "id": "ee5e98c6-a080-434d-9cde-8815371808d3",
   "metadata": {},
   "outputs": [
    {
     "name": "stdin",
     "output_type": "stream",
     "text": [
      "Enter the year 3005\n"
     ]
    },
    {
     "name": "stdout",
     "output_type": "stream",
     "text": [
      "This is not a leap year \n"
     ]
    }
   ],
   "source": [
    "year=int(input(\"Enter the year\"))\n",
    "if (year % 4 == 0 and year % 100 != 0) or (year % 400 == 0):\n",
    "    print(\"This year is a leap year\")\n",
    "else:\n",
    "    print(\"This is not a leap year \")\n",
    "               \n",
    "               "
   ]
  },
  {
   "cell_type": "markdown",
   "id": "516c7228-4bd5-4910-928a-3614dd0bc8a8",
   "metadata": {},
   "source": [
    "9. Write a program that determines if a number is positive, negative, or zero.\n"
   ]
  },
  {
   "cell_type": "code",
   "execution_count": 16,
   "id": "1b4ce913-aaca-48fb-850d-1d6d11df3bbd",
   "metadata": {},
   "outputs": [
    {
     "name": "stdin",
     "output_type": "stream",
     "text": [
      "Enter the number  4\n"
     ]
    },
    {
     "name": "stdout",
     "output_type": "stream",
     "text": [
      "The number is positive\n"
     ]
    }
   ],
   "source": [
    "number=float(input(\"Enter the number \"))\n",
    "if number>0:\n",
    "    print(\"The number is positive\")\n",
    "elif number<0:\n",
    "    print(\"The numebr is negative\")\n",
    "else:\n",
    "    print(\"The number is zero\")\n",
    "    "
   ]
  },
  {
   "cell_type": "markdown",
   "id": "265f81c7-c9aa-4712-8d76-627fe691a850",
   "metadata": {},
   "source": [
    "10. Write a program that calculates the grade based on a given percentage.\n"
   ]
  },
  {
   "cell_type": "code",
   "execution_count": 17,
   "id": "6b42b115-f0db-4b05-aade-dd649a73faf2",
   "metadata": {},
   "outputs": [
    {
     "name": "stdin",
     "output_type": "stream",
     "text": [
      "Enter the percentage 45\n"
     ]
    },
    {
     "name": "stdout",
     "output_type": "stream",
     "text": [
      "The grade is B\n"
     ]
    }
   ],
   "source": [
    "percentage=float(input(\"Enter the percentage\"))\n",
    "if percentage>=80:\n",
    "    print(\"The grade is A+\")\n",
    "elif percentage >=70:\n",
    "    print(\"The grade is A\")\n",
    "elif percentage >=60:\n",
    "    print(\"The grade is A-\")\n",
    "elif percentage >=50:\n",
    "    print(\"The grade is B+\")\n",
    "elif percentage >=40:\n",
    "    print(\"The grade is B\")\n",
    "elif percentage >=33:\n",
    "    print(\"The grade is Pass\")\n",
    "else:\n",
    "    print(\"This is Fail\")"
   ]
  },
  {
   "cell_type": "markdown",
   "id": "ac6518d5-2b8e-4aef-a232-d7d94a250ed5",
   "metadata": {},
   "source": [
    "11. Write a program that prints the first `n` natural numbers.\n"
   ]
  },
  {
   "cell_type": "code",
   "execution_count": 19,
   "id": "587a0ddd-f21b-4a80-bdb0-6ef09d3193e8",
   "metadata": {},
   "outputs": [
    {
     "name": "stdin",
     "output_type": "stream",
     "text": [
      "Enter the value of n 4\n"
     ]
    },
    {
     "name": "stdout",
     "output_type": "stream",
     "text": [
      "1\n",
      "2\n",
      "3\n",
      "4\n"
     ]
    }
   ],
   "source": [
    "n=int(input(\"Enter the value of n\"))\n",
    "for i in range(1, n+1):\n",
    "    print(i)"
   ]
  },
  {
   "cell_type": "markdown",
   "id": "ed3a96d6-6575-4f07-b2cf-6880eb7c524b",
   "metadata": {},
   "source": [
    "12. Write a program that calculates the factorial of a number.\n"
   ]
  },
  {
   "cell_type": "code",
   "execution_count": 21,
   "id": "4be2d882-cdda-4224-a628-d80a47321716",
   "metadata": {},
   "outputs": [
    {
     "name": "stdin",
     "output_type": "stream",
     "text": [
      "enter the number 6\n"
     ]
    },
    {
     "name": "stdout",
     "output_type": "stream",
     "text": [
      "The factorial of 6 is 720\n"
     ]
    }
   ],
   "source": [
    "n=int(input(\"enter the number\"))\n",
    "factorial=1\n",
    "for i in range(1, n+1):\n",
    "    factorial *=i\n",
    "\n",
    "print(f\"The factorial of {n} is {factorial}\")\n",
    "\n"
   ]
  },
  {
   "cell_type": "code",
   "execution_count": null,
   "id": "2e78515f-c18c-4726-b057-8926c552300f",
   "metadata": {},
   "outputs": [],
   "source": [
    "13. Write a program that generates a Fibonacci sequence of length `n`"
   ]
  },
  {
   "cell_type": "code",
   "execution_count": 22,
   "id": "4ea4228a-fb16-4fd8-bb4a-c2ea9d842ce0",
   "metadata": {},
   "outputs": [
    {
     "name": "stdin",
     "output_type": "stream",
     "text": [
      "Enter the length of the fibonacci sequence:  56\n"
     ]
    },
    {
     "name": "stdout",
     "output_type": "stream",
     "text": [
      "Fibonacci sequence of length 56: [0, 1, 1, 2, 3, 5, 8, 13, 21, 34, 55, 89, 144, 233, 377, 610, 987, 1597, 2584, 4181, 6765, 10946, 17711, 28657, 46368, 75025, 121393, 196418, 317811, 514229, 832040, 1346269, 2178309, 3524578, 5702887, 9227465, 14930352, 24157817, 39088169, 63245986, 102334155, 165580141, 267914296, 433494437, 701408733, 1134903170, 1836311903, 2971215073, 4807526976, 7778742049, 12586269025, 20365011074, 32951280099, 53316291173, 86267571272, 139583862445]\n"
     ]
    }
   ],
   "source": [
    "n=int(input(\"Enter the length of the fibonacci sequence: \"))\n",
    "fib_sequence = [0, 1]\n",
    "for i in range(2, n):\n",
    "    next_fib = fib_sequence[-1] + fib_sequence[-2]  # Sum of the last two elements\n",
    "    fib_sequence.append(next_fib)\n",
    "print(f\"Fibonacci sequence of length {n}: {fib_sequence[:n]}\")"
   ]
  },
  {
   "cell_type": "markdown",
   "id": "b32d454a-32a1-4661-bc28-ba26c0599c69",
   "metadata": {},
   "source": [
    " 14. Write a program that checks if a given number is prime or not"
   ]
  },
  {
   "cell_type": "code",
   "execution_count": 23,
   "id": "79030f90-23d7-44d7-820c-c484bbdeabfa",
   "metadata": {},
   "outputs": [
    {
     "name": "stdin",
     "output_type": "stream",
     "text": [
      "Enter the number:  34\n"
     ]
    },
    {
     "name": "stdout",
     "output_type": "stream",
     "text": [
      "{num} is not a prime number\n"
     ]
    }
   ],
   "source": [
    "num=int(input(\"Enter the number: \"))\n",
    "if num>1:\n",
    "    for i in range(2, int(num**0.5)+1):\n",
    "        if (num%i)==0:\n",
    "            print(\"{num} is not a prime number\")\n",
    "            break\n",
    "    else:\n",
    "        print(f\"{num} is a prime number\")\n",
    "else:\n",
    "    print(f\"{num} is not a prime number\")\n",
    "    "
   ]
  },
  {
   "cell_type": "markdown",
   "id": "0aeb59b6-cbbe-4cd3-ba5d-bb6d75b7e1f3",
   "metadata": {},
   "source": [
    "15. Write a program that prints the multiplication table of a given number"
   ]
  },
  {
   "cell_type": "code",
   "execution_count": 25,
   "id": "77a326ac-d1be-4e80-a5e3-30d8a59326e9",
   "metadata": {},
   "outputs": [
    {
     "name": "stdin",
     "output_type": "stream",
     "text": [
      "Enter the number 5\n"
     ]
    },
    {
     "name": "stdout",
     "output_type": "stream",
     "text": [
      "5 * 1 = 5\n",
      "5 * 2 = 10\n",
      "5 * 3 = 15\n",
      "5 * 4 = 20\n",
      "5 * 5 = 25\n"
     ]
    }
   ],
   "source": [
    "n=int(input(\"Enter the number\"))\n",
    "for i in range(1, n+1):\n",
    "    print(n, \"*\", i, \"=\", n*i)\n"
   ]
  },
  {
   "cell_type": "markdown",
   "id": "0fec7348-97f9-4984-83fc-848cde915691",
   "metadata": {},
   "source": [
    "16. Write a program that finds the sum of all even numbers between 1 and `n`."
   ]
  },
  {
   "cell_type": "code",
   "execution_count": 26,
   "id": "88364c7c-7415-4660-b56c-cbab5cf195da",
   "metadata": {},
   "outputs": [
    {
     "name": "stdin",
     "output_type": "stream",
     "text": [
      "Enter the number 34\n"
     ]
    },
    {
     "name": "stdout",
     "output_type": "stream",
     "text": [
      "The sum of all even numbers from 1 to 34 is 306 \n"
     ]
    }
   ],
   "source": [
    "n = int(input(\"Enter the number\"))\n",
    "even_sum = 0\n",
    "for i in range(1, n+1):\n",
    "    if (i%2 == 0):\n",
    "        even_sum += i\n",
    "print(f\"The sum of all even numbers from 1 to {n} is {even_sum} \")\n",
    "        "
   ]
  },
  {
   "cell_type": "markdown",
   "id": "070b4de3-a300-4f30-b1ce-e22135d9583d",
   "metadata": {},
   "source": [
    "17. Write a program that reverses a given number.\n"
   ]
  },
  {
   "cell_type": "code",
   "execution_count": 27,
   "id": "6e6a28d9-934d-4de9-8b74-568c403e32cd",
   "metadata": {},
   "outputs": [
    {
     "name": "stdin",
     "output_type": "stream",
     "text": [
      "Enter the number 34\n"
     ]
    },
    {
     "name": "stdout",
     "output_type": "stream",
     "text": [
      "The reversed number is 43\n"
     ]
    }
   ],
   "source": [
    "num=int(input(\"Enter the number\"))\n",
    "reversed_num=0\n",
    "while num>0:\n",
    "    digit=num%10\n",
    "    reversed_num=reversed_num*10+digit\n",
    "    num=num//10\n",
    "print(f\"The reversed number is {reversed_num}\")\n",
    "\n",
    "    "
   ]
  },
  {
   "cell_type": "markdown",
   "id": "41373d5e-cf95-455b-ac87-e250250a2576",
   "metadata": {},
   "source": [
    "18. Write a program that checks if a given string, is a palindrome.\n"
   ]
  },
  {
   "cell_type": "code",
   "execution_count": 28,
   "id": "023e0786-98c2-4121-bd83-cdc113f9f397",
   "metadata": {},
   "outputs": [
    {
     "name": "stdin",
     "output_type": "stream",
     "text": [
      "Enter the string 12\n"
     ]
    },
    {
     "name": "stdout",
     "output_type": "stream",
     "text": [
      "12 is not a palindrone\n"
     ]
    }
   ],
   "source": [
    "string=input(\"Enter the string\")\n",
    "if string==string[::-1]:\n",
    "    print(f\"{string} is palindrone.\")\n",
    "else:\n",
    "    print(f\"{string} is not a palindrone\")"
   ]
  },
  {
   "cell_type": "markdown",
   "id": "e854e251-511b-4f84-95de-9b6cf0dd1c36",
   "metadata": {},
   "source": [
    "19. Write a program that generates a random number and allows the user to guess it.\n"
   ]
  },
  {
   "cell_type": "code",
   "execution_count": 29,
   "id": "d061077c-38d4-4ccd-8360-d774bd6c1ff6",
   "metadata": {},
   "outputs": [
    {
     "name": "stdin",
     "output_type": "stream",
     "text": [
      "Guess the number (between 1 and 100):  4\n"
     ]
    },
    {
     "name": "stdout",
     "output_type": "stream",
     "text": [
      "Too low! Try again.\n"
     ]
    },
    {
     "name": "stdin",
     "output_type": "stream",
     "text": [
      "Guess the number (between 1 and 100):  40\n"
     ]
    },
    {
     "name": "stdout",
     "output_type": "stream",
     "text": [
      "Too low! Try again.\n"
     ]
    },
    {
     "name": "stdin",
     "output_type": "stream",
     "text": [
      "Guess the number (between 1 and 100):  60\n"
     ]
    },
    {
     "name": "stdout",
     "output_type": "stream",
     "text": [
      "Too low! Try again.\n"
     ]
    },
    {
     "name": "stdin",
     "output_type": "stream",
     "text": [
      "Guess the number (between 1 and 100):  70\n"
     ]
    },
    {
     "name": "stdout",
     "output_type": "stream",
     "text": [
      "Too low! Try again.\n"
     ]
    },
    {
     "name": "stdin",
     "output_type": "stream",
     "text": [
      "Guess the number (between 1 and 100):  80\n"
     ]
    },
    {
     "name": "stdout",
     "output_type": "stream",
     "text": [
      "Too high! Try again.\n"
     ]
    },
    {
     "name": "stdin",
     "output_type": "stream",
     "text": [
      "Guess the number (between 1 and 100):  75\n"
     ]
    },
    {
     "name": "stdout",
     "output_type": "stream",
     "text": [
      "Too low! Try again.\n"
     ]
    },
    {
     "name": "stdin",
     "output_type": "stream",
     "text": [
      "Guess the number (between 1 and 100):  76\n"
     ]
    },
    {
     "name": "stdout",
     "output_type": "stream",
     "text": [
      "Too low! Try again.\n"
     ]
    },
    {
     "name": "stdin",
     "output_type": "stream",
     "text": [
      "Guess the number (between 1 and 100):  77\n"
     ]
    },
    {
     "name": "stdout",
     "output_type": "stream",
     "text": [
      "Too low! Try again.\n"
     ]
    },
    {
     "name": "stdin",
     "output_type": "stream",
     "text": [
      "Guess the number (between 1 and 100):  78\n"
     ]
    },
    {
     "name": "stdout",
     "output_type": "stream",
     "text": [
      "Too low! Try again.\n"
     ]
    },
    {
     "name": "stdin",
     "output_type": "stream",
     "text": [
      "Guess the number (between 1 and 100):  79\n"
     ]
    },
    {
     "name": "stdout",
     "output_type": "stream",
     "text": [
      "Congratulations! You've guessed the number 79 in 10 attempts.\n"
     ]
    }
   ],
   "source": [
    "import random\n",
    "\n",
    "random_number = random.randint(1, 100)\n",
    "attempts = 0\n",
    "\n",
    "while True:  # 'True' should be capitalized\n",
    "    guess = int(input(\"Guess the number (between 1 and 100): \"))\n",
    "    attempts += 1\n",
    "\n",
    "    if guess < random_number:\n",
    "        print(\"Too low! Try again.\")\n",
    "    elif guess > random_number:\n",
    "        print(\"Too high! Try again.\")\n",
    "    else:\n",
    "        print(f\"Congratulations! You've guessed the number {random_number} in {attempts} attempts.\")\n",
    "        break\n"
   ]
  },
  {
   "cell_type": "markdown",
   "id": "532924f5-b283-4f06-aa0b-6bd0538b6130",
   "metadata": {},
   "source": [
    "20. Write a program that finds the greatest common divisor (GCD) of two numbers.\n"
   ]
  },
  {
   "cell_type": "code",
   "execution_count": 31,
   "id": "b599545c-f472-475b-b386-ce59161a1736",
   "metadata": {},
   "outputs": [
    {
     "name": "stdin",
     "output_type": "stream",
     "text": [
      "Enter the first number:  18\n",
      "Enter the second number:  36\n"
     ]
    },
    {
     "name": "stdout",
     "output_type": "stream",
     "text": [
      "The GCD of 18 and 36 is: 18\n"
     ]
    }
   ],
   "source": [
    "def gcd(a, b):\n",
    "    while b:\n",
    "        a, b = b, a % b\n",
    "    return a\n",
    "\n",
    "num1 = int(input(\"Enter the first number: \"))\n",
    "num2 = int(input(\"Enter the second number: \"))\n",
    "\n",
    "result = gcd(num1, num2)\n",
    "\n",
    "print(\"The GCD of\", num1, \"and\", num2, \"is:\", result)\n"
   ]
  }
 ],
 "metadata": {
  "kernelspec": {
   "display_name": "Python 3 (ipykernel)",
   "language": "python",
   "name": "python3"
  },
  "language_info": {
   "codemirror_mode": {
    "name": "ipython",
    "version": 3
   },
   "file_extension": ".py",
   "mimetype": "text/x-python",
   "name": "python",
   "nbconvert_exporter": "python",
   "pygments_lexer": "ipython3",
   "version": "3.12.5"
  }
 },
 "nbformat": 4,
 "nbformat_minor": 5
}
